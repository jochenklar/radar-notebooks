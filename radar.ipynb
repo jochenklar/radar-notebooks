{
 "cells": [
  {
   "cell_type": "code",
   "execution_count": null,
   "metadata": {},
   "outputs": [],
   "source": [
    "import os\n",
    "import requests\n",
    "from datetime import datetime\n",
    "from dotenv import load_dotenv\n",
    "load_dotenv()\n",
    "\n",
    "# read variables from the .env file\n",
    "RADAR_URL = os.getenv('RADAR_URL')\n",
    "RADAR_CLIENT_ID = os.getenv('RADAR_CLIENT_ID')\n",
    "RADAR_CLIENT_SECRET = os.getenv('RADAR_CLIENT_SECRET')\n",
    "RADAR_REDIRECT_URL = os.getenv('RADAR_REDIRECT_URL')\n",
    "RADAR_USERNAME = os.getenv('RADAR_USERNAME')\n",
    "RADAR_PASSWORD = os.getenv('RADAR_PASSWORD')\n",
    "RADAR_CONTRACT_ID = os.getenv('RADAR_CONTRACT_ID')\n",
    "RADAR_WORKSPACE_ID = os.getenv('RADAR_WORKSPACE_ID')\n",
    "RADAR_EMAIL = os.getenv('RADAR_EMAIL')\n",
    "RADAR_BACKLINK = os.getenv('RADAR_BACKLINK')\n",
    "\n",
    "RADAR_API_URL = RADAR_URL + '/radar/api'\n",
    "RADAR_INGEST_URL = RADAR_URL + '/radar-ingest'"
   ]
  },
  {
   "cell_type": "code",
   "execution_count": null,
   "metadata": {},
   "outputs": [],
   "source": [
    "# obtain token\n",
    "response = requests.post(RADAR_API_URL + '/tokens', json={\n",
    "    'clientId': RADAR_CLIENT_ID,\n",
    "    'clientSecret': RADAR_CLIENT_SECRET,\n",
    "    'redirectUrl': RADAR_REDIRECT_URL,\n",
    "    'userName': RADAR_USERNAME,\n",
    "    'userPassword': RADAR_PASSWORD\n",
    "})\n",
    "\n",
    "try:\n",
    "    response.raise_for_status()\n",
    "except requests.exceptions.HTTPError as e: \n",
    "    print(e, r.text)\n",
    "\n",
    "tokens = response.json()\n",
    "headers = {\n",
    "    'Authorization': 'Bearer {}'.format(tokens['access_token'])\n",
    "}\n",
    "tokens, headers"
   ]
  },
  {
   "cell_type": "code",
   "execution_count": null,
   "metadata": {},
   "outputs": [],
   "source": [
    " # list contracts\n",
    "url = RADAR_API_URL + '/contracts'\n",
    "response = requests.get(url, headers=headers)\n",
    "response.json()"
   ]
  },
  {
   "cell_type": "code",
   "execution_count": null,
   "metadata": {},
   "outputs": [],
   "source": [
    "# get contract\n",
    "url = RADAR_API_URL + '/contracts'.format(RADAR_CONTRACT_ID)\n",
    "response = requests.get(url, headers=headers)\n",
    "response.json()"
   ]
  },
  {
   "cell_type": "code",
   "execution_count": null,
   "metadata": {},
   "outputs": [],
   "source": [
    "# create workspace\n",
    "url = RADAR_API_URL + '/contracts/{}/workspaces'.format(RADAR_CONTRACT_ID)\n",
    "response = requests.post(url, headers=headers, json={\n",
    "    \"descriptiveMetadata\":{\n",
    "        \"title\": \"Test workspace\",\n",
    "        \"description\": \"This is the test workspace\"\n",
    "    },\n",
    "    \"technicalMetadata\": {\n",
    "        \"defaultDatasetRetentionPeriod\": 42,\n",
    "        \"defaultDatasetResponsibleEmail\": \"mail@example.com\"\n",
    "    }\n",
    "})\n",
    "response.json()"
   ]
  },
  {
   "cell_type": "code",
   "execution_count": null,
   "metadata": {},
   "outputs": [],
   "source": [
    "# list workspaces\n",
    "url = RADAR_API_URL + '/workspaces'\n",
    "response = requests.get(url, headers=headers)\n",
    "response.json()"
   ]
  },
  {
   "cell_type": "code",
   "execution_count": null,
   "metadata": {},
   "outputs": [],
   "source": [
    "# create dataset\n",
    "url = RADAR_API_URL + '/workspaces/{}/datasets'.format(RADAR_WORKSPACE_ID)\n",
    "archive_date = int(datetime.utcnow().timestamp())\n",
    "publish_date = int(datetime.strptime('2020-12-10', '%Y-%m-%d').timestamp())\n",
    "response = requests.post(url, headers=headers, json={\n",
    "    \"technicalMetadata\": { \n",
    "        \"retentionPeriod\": 10,\n",
    "        \"archiveDate\": archive_date,\n",
    "        \"publishDate\": publish_date,\n",
    "        \"responsibleEmail\": 'admin@example.com',\n",
    "        # \"publicationBacklink\": \"http://alice-bob.de/publication\",\n",
    "        # \"embargoEndingDate\": 1453982839735\n",
    "    },\n",
    "    \"descriptiveMetadata\": {\n",
    "        #\"alternateIdentifiers\": null,\n",
    "        #\"relatedIdentifiers\": null,\n",
    "        \"creators\": {\n",
    "            \"creator\": [\n",
    "                {\n",
    "                    'creatorName': 'Max Mustermann',\n",
    "                    'creatorAffiliation': 'Scientist'\n",
    "                },\n",
    "                {  \n",
    "                    'creatorName': 'Maike Maler',\n",
    "                    'creatorAffiliation': 'Scientist'\n",
    "                }\n",
    "            ]\n",
    "        },\n",
    "        #\"contributors\": CONTRIBUTORS,\n",
    "        \"title\": \"Test dataset\",\n",
    "        #\"descriptions\": null,\n",
    "        #\"keywords\": null,\n",
    "        \"publishers\": {\n",
    "            'publisher': ['Karlsruher Institut für Technologie (KIT)']\n",
    "        },\n",
    "        \"productionYear\": '2020',\n",
    "        \"publicationYear\": '2020',\n",
    "        \"language\": 'ENG',\n",
    "        #\"subjectAreas\":null,\n",
    "        #\"resource\":null,\n",
    "        #\"geoLocations\":null,\n",
    "        #\"dataSources\":null,\n",
    "        #\"software\":null,\n",
    "        #\"processing\":null,\n",
    "        #\"rights\":null,\n",
    "        #\"rightsHolders\":null,\n",
    "        #\"relatedInformations\":null\n",
    "    }\n",
    "})\n",
    "dataset = response.json()\n",
    "dataset"
   ]
  },
  {
   "cell_type": "code",
   "execution_count": null,
   "metadata": {},
   "outputs": [],
   "source": [
    "# upload files\n",
    "url = dataset.get('uploadUrl')\n",
    "files = {'upload_file': open('README.md','rb')}\n",
    "response = requests.post(url, files=files, headers=headers)\n",
    "response.text"
   ]
  },
  {
   "cell_type": "code",
   "execution_count": null,
   "metadata": {},
   "outputs": [],
   "source": []
  },
  {
   "cell_type": "code",
   "execution_count": null,
   "metadata": {},
   "outputs": [],
   "source": []
  }
 ],
 "metadata": {
  "kernelspec": {
   "display_name": "Python 3",
   "language": "python",
   "name": "python3"
  },
  "language_info": {
   "codemirror_mode": {
    "name": "ipython",
    "version": 3
   },
   "file_extension": ".py",
   "mimetype": "text/x-python",
   "name": "python",
   "nbconvert_exporter": "python",
   "pygments_lexer": "ipython3",
   "version": "3.7.3"
  }
 },
 "nbformat": 4,
 "nbformat_minor": 4
}
